{
 "cells": [
  {
   "cell_type": "code",
   "execution_count": 10,
   "id": "26951153",
   "metadata": {},
   "outputs": [
    {
     "name": "stdout",
     "output_type": "stream",
     "text": [
      "Enter a password to check its strength: waseem123\n",
      "Password strength: good password\n",
      "Details:\n",
      "length_criteria: Met\n",
      "uppercase_criteria: Not met\n",
      "lowercase_criteria: Met\n",
      "digit_criteria: Met\n",
      "special_char_criteria: Not met\n"
     ]
    }
   ],
   "source": [
    "import re\n",
    "\n",
    "def check_password_strength(password):\n",
    "    # Define the criteria\n",
    "    length_criteria = len(password) >= 8\n",
    "    uppercase_criteria = re.search(r'[A-Z]', password) is not None\n",
    "    lowercase_criteria = re.search(r'[a-z]', password) is not None\n",
    "    digit_criteria = re.search(r'[0-9]', password) is not None\n",
    "    special_char_criteria = re.search(r'[\\W_]', password) is not None\n",
    "\n",
    "    # Calculate the number of criteria met\n",
    "    criteria_met = sum([length_criteria, uppercase_criteria, lowercase_criteria, digit_criteria, special_char_criteria])\n",
    "    \n",
    "    # Provide feedback based on the number of criteria met\n",
    "    if criteria_met == 5:\n",
    "        feedback = \"Strong password\"\n",
    "    elif criteria_met >= 3:\n",
    "        feedback = \"good password\"\n",
    "    else:\n",
    "        feedback = \"Weak password\"\n",
    "\n",
    "    # Detailed feedback\n",
    "    details = {\n",
    "        \"length_criteria\": length_criteria,\n",
    "        \"uppercase_criteria\": uppercase_criteria,\n",
    "        \"lowercase_criteria\": lowercase_criteria,\n",
    "        \"digit_criteria\": digit_criteria,\n",
    "        \"special_char_criteria\": special_char_criteria,\n",
    "    }\n",
    "\n",
    "    return feedback, details\n",
    "\n",
    "# Example usage\n",
    "password = input(\"Enter a password to check its strength: \")\n",
    "strength, details = check_password_strength(password)\n",
    "print(f\"Password strength: {strength}\")\n",
    "print(\"Details:\")\n",
    "for criterion, met in details.items():\n",
    "    print(f\"{criterion}: {'Met' if met else 'Not met'}\")\n"
   ]
  }
 ],
 "metadata": {
  "kernelspec": {
   "display_name": "Python 3 (ipykernel)",
   "language": "python",
   "name": "python3"
  },
  "language_info": {
   "codemirror_mode": {
    "name": "ipython",
    "version": 3
   },
   "file_extension": ".py",
   "mimetype": "text/x-python",
   "name": "python",
   "nbconvert_exporter": "python",
   "pygments_lexer": "ipython3",
   "version": "3.11.5"
  }
 },
 "nbformat": 4,
 "nbformat_minor": 5
}
